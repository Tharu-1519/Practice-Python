{
 "cells": [
  {
   "cell_type": "markdown",
   "id": "53e34e0f-1ca7-4145-ae2c-39d5694570d4",
   "metadata": {},
   "source": [
    "Range1"
   ]
  },
  {
   "cell_type": "code",
   "execution_count": 3,
   "id": "5f36f374-3d19-4731-80c5-e7ee0734ae00",
   "metadata": {},
   "outputs": [
    {
     "name": "stdout",
     "output_type": "stream",
     "text": [
      "0\n",
      "1\n",
      "2\n",
      "3\n",
      "4\n",
      "5\n",
      "6\n",
      "7\n",
      "8\n",
      "9\n",
      "10\n",
      "11\n",
      "12\n",
      "13\n",
      "14\n",
      "15\n",
      "16\n",
      "17\n",
      "18\n",
      "19\n"
     ]
    }
   ],
   "source": [
    "for numbers in range(0,20):\n",
    "    print(numbers)"
   ]
  },
  {
   "cell_type": "markdown",
   "id": "f2710319-43eb-4c7e-a62c-7a7756360c6f",
   "metadata": {},
   "source": [
    "Range2"
   ]
  },
  {
   "cell_type": "code",
   "execution_count": 4,
   "id": "0fc99e07-f80e-49d5-bc7e-88217839a890",
   "metadata": {},
   "outputs": [
    {
     "name": "stdout",
     "output_type": "stream",
     "text": [
      "10\n",
      "11\n",
      "12\n",
      "13\n",
      "14\n",
      "15\n",
      "16\n",
      "17\n",
      "18\n",
      "19\n"
     ]
    }
   ],
   "source": [
    "for numbers in range(10,20):\n",
    "    print(numbers)"
   ]
  },
  {
   "cell_type": "markdown",
   "id": "074ddf80-a1a5-4851-9c74-49e93d49168e",
   "metadata": {},
   "source": [
    "print number of items in the list by using len"
   ]
  },
  {
   "cell_type": "code",
   "execution_count": 5,
   "id": "9d8b147f-33ea-4f74-9b0d-41248900766b",
   "metadata": {},
   "outputs": [
    {
     "name": "stdout",
     "output_type": "stream",
     "text": [
      "Number of item in the List: 6\n"
     ]
    }
   ],
   "source": [
    "Lists=[10,11,12,13,14,15]\n",
    "no_of_items=len(Lists)\n",
    "print(\"Number of item in the List:\",no_of_items)"
   ]
  },
  {
   "cell_type": "markdown",
   "id": "1d122dde-f7ca-4895-93d4-e18762f9d1ce",
   "metadata": {},
   "source": [
    "String print using for loop "
   ]
  },
  {
   "cell_type": "code",
   "execution_count": 6,
   "id": "be81b7c9-6917-4502-b9ee-481d93eb9f49",
   "metadata": {},
   "outputs": [
    {
     "name": "stdout",
     "output_type": "stream",
     "text": [
      "A\n",
      "r\n",
      "t\n",
      "i\n",
      "f\n",
      "i\n",
      "c\n",
      "a\n",
      "l\n",
      " \n",
      "I\n",
      "n\n",
      "t\n",
      "e\n",
      "l\n",
      "l\n",
      "i\n",
      "g\n",
      "e\n",
      "n\n",
      "c\n",
      "e\n"
     ]
    }
   ],
   "source": [
    "string='Artifical Intelligence'\n",
    "for char in string:\n",
    "    print(char)"
   ]
  },
  {
   "cell_type": "markdown",
   "id": "3306421b-24d6-4847-99b3-73cf477a7e0d",
   "metadata": {},
   "source": [
    "String print"
   ]
  },
  {
   "cell_type": "code",
   "execution_count": 20,
   "id": "26fa7f2b-0036-4dcd-b2dc-faea6bac2b37",
   "metadata": {},
   "outputs": [
    {
     "name": "stdout",
     "output_type": "stream",
     "text": [
      "-Your Name-\n",
      "-Your Age-\n",
      "-Your Profession-\n"
     ]
    }
   ],
   "source": [
    "print(\"-Your Name-\")\n",
    "print(\"-Your Age-\")\n",
    "print(\"-Your Profession-\")"
   ]
  },
  {
   "cell_type": "markdown",
   "id": "0ebae761-4fc4-4fc8-859b-edfaabbc823a",
   "metadata": {},
   "source": [
    "Tuple1"
   ]
  },
  {
   "cell_type": "code",
   "execution_count": 12,
   "id": "3c461022-13cd-4a2f-86a3-5e1368ca5fc6",
   "metadata": {},
   "outputs": [
    {
     "name": "stdout",
     "output_type": "stream",
     "text": [
      "(1, 'Welcome', 2, 'Hope')\n"
     ]
    }
   ],
   "source": [
    "Tuple = (1,'Welcome',2,'Hope')\n",
    "print(Tuple)"
   ]
  },
  {
   "cell_type": "markdown",
   "id": "017606bd-3f73-4d3c-a137-a2c671589ccf",
   "metadata": {},
   "source": [
    "Nested Tuple "
   ]
  },
  {
   "cell_type": "code",
   "execution_count": 15,
   "id": "faf335b2-0aed-483b-afb0-a427260e18e8",
   "metadata": {},
   "outputs": [
    {
     "name": "stdout",
     "output_type": "stream",
     "text": [
      "((0, 1, 2, 3), ('python', 'HOPE'))\n"
     ]
    }
   ],
   "source": [
    "tuple1=((0,1,2,3),('python','HOPE'))\n",
    "print(tuple1)"
   ]
  },
  {
   "cell_type": "markdown",
   "id": "78be7ec5-9674-4b1b-94e3-b36f66ac8ab8",
   "metadata": {},
   "source": [
    "Tuple_unpacking"
   ]
  },
  {
   "cell_type": "code",
   "execution_count": 16,
   "id": "25ead09b-171a-40c3-8bab-9a93af8f7c65",
   "metadata": {},
   "outputs": [
    {
     "name": "stdout",
     "output_type": "stream",
     "text": [
      "1\n",
      "2\n",
      "3\n"
     ]
    }
   ],
   "source": [
    "my_tuple =(1,2,3)\n",
    "a,b,c =my_tuple\n",
    "print(a)\n",
    "print(b)\n",
    "print(c)"
   ]
  },
  {
   "cell_type": "markdown",
   "id": "e0f9b27c-a61f-46d0-b7f2-ec4cccf96545",
   "metadata": {},
   "source": [
    "Odd numbers from list "
   ]
  },
  {
   "cell_type": "code",
   "execution_count": 22,
   "id": "f695c6e8-64ec-4a78-b0de-c267e30064e6",
   "metadata": {},
   "outputs": [
    {
     "name": "stdout",
     "output_type": "stream",
     "text": [
      "19 is odd\n",
      "25 is odd\n",
      "1 is odd\n"
     ]
    }
   ],
   "source": [
    "Lists=[20,10,16,19,25,1,276,188]\n",
    "for numbers in Lists:\n",
    "    if(numbers%2!=0):\n",
    "        print(f\"{numbers} is odd\")"
   ]
  },
  {
   "cell_type": "markdown",
   "id": "4573638f-832e-4ef3-a70f-8dce9f6be96f",
   "metadata": {},
   "source": [
    "Even Numbers from List"
   ]
  },
  {
   "cell_type": "code",
   "execution_count": 23,
   "id": "14fe2364-c000-4490-bc27-0426b30fe18f",
   "metadata": {},
   "outputs": [
    {
     "name": "stdout",
     "output_type": "stream",
     "text": [
      "20 is even\n",
      "10 is even\n",
      "16 is even\n",
      "276 is even\n",
      "188 is even\n"
     ]
    }
   ],
   "source": [
    "Lists=[20,10,16,19,25,1,276,188]\n",
    "for numbers in Lists:\n",
    "    if(numbers %2==0):\n",
    "        print(f\"{numbers} is even\")"
   ]
  },
  {
   "cell_type": "code",
   "execution_count": null,
   "id": "7fba0127-5bbb-4799-92a2-cf825375c9e7",
   "metadata": {},
   "outputs": [],
   "source": []
  }
 ],
 "metadata": {
  "kernelspec": {
   "display_name": "Python 3 (ipykernel)",
   "language": "python",
   "name": "python3"
  },
  "language_info": {
   "codemirror_mode": {
    "name": "ipython",
    "version": 3
   },
   "file_extension": ".py",
   "mimetype": "text/x-python",
   "name": "python",
   "nbconvert_exporter": "python",
   "pygments_lexer": "ipython3",
   "version": "3.12.4"
  }
 },
 "nbformat": 4,
 "nbformat_minor": 5
}
