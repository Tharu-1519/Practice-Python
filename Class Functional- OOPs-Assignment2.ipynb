{
 "cells": [
  {
   "cell_type": "markdown",
   "id": "412cd696-83ca-46e9-96db-8be096f88e9e",
   "metadata": {},
   "source": [
    "Function call using .PY note"
   ]
  },
  {
   "cell_type": "code",
   "execution_count": 5,
   "id": "2215bdb3-9d74-4a3e-8643-86b0d4d4afc7",
   "metadata": {},
   "outputs": [],
   "source": [
    "from Allfunctionsin1Class import AllFunctions"
   ]
  },
  {
   "cell_type": "code",
   "execution_count": 8,
   "id": "4469e536-5d65-402d-b89d-7c2c9ee4af90",
   "metadata": {},
   "outputs": [
    {
     "name": "stdout",
     "output_type": "stream",
     "text": [
      "Sub-fields in AI are:\n",
      "Machine Learning\n",
      "Neural Network\n",
      "Vision\n",
      "Robotics\n",
      "Speech Processing\n",
      "Natural Language Processing\n"
     ]
    }
   ],
   "source": [
    "AllFunctions.subfields()"
   ]
  },
  {
   "cell_type": "code",
   "execution_count": 7,
   "id": "68c3717c-253d-4296-82b5-2371079a22dd",
   "metadata": {},
   "outputs": [
    {
     "name": "stdin",
     "output_type": "stream",
     "text": [
      "Enter a number:  34\n"
     ]
    },
    {
     "name": "stdout",
     "output_type": "stream",
     "text": [
      "34 is Even\n"
     ]
    }
   ],
   "source": [
    "AllFunctions.oddeven()"
   ]
  },
  {
   "cell_type": "code",
   "execution_count": 9,
   "id": "7b73eb49-e493-411d-8e84-1c83355ffbce",
   "metadata": {},
   "outputs": [
    {
     "name": "stdin",
     "output_type": "stream",
     "text": [
      "Your Gender (Male/Female):  Male\n",
      "Your age:  20\n"
     ]
    },
    {
     "name": "stdout",
     "output_type": "stream",
     "text": [
      "Not Eligible\n"
     ]
    }
   ],
   "source": [
    "AllFunctions.eligibility_for_marriage()"
   ]
  },
  {
   "cell_type": "code",
   "execution_count": 10,
   "id": "29a38309-ab18-42ce-9ed0-7f67b76cfd5f",
   "metadata": {},
   "outputs": [
    {
     "name": "stdin",
     "output_type": "stream",
     "text": [
      "Subject 1:  95\n",
      "Subject 2:  87\n",
      "Subject 3:  98\n",
      "Subject 4:  95\n",
      "Subject 5:  93\n"
     ]
    },
    {
     "name": "stdout",
     "output_type": "stream",
     "text": [
      "Total: 468\n",
      "Percentage: 93.6\n"
     ]
    }
   ],
   "source": [
    "AllFunctions.calculate()"
   ]
  },
  {
   "cell_type": "code",
   "execution_count": 11,
   "id": "df7722ed-5b34-4c33-8c09-3cd191a474a1",
   "metadata": {},
   "outputs": [
    {
     "name": "stdin",
     "output_type": "stream",
     "text": [
      "Height:  32\n",
      "Breadth:  34\n"
     ]
    },
    {
     "name": "stdout",
     "output_type": "stream",
     "text": [
      "Area Formula: Area = (Height * Breadth) / 2\n",
      "Area of Triangle: 544.0\n"
     ]
    },
    {
     "name": "stdin",
     "output_type": "stream",
     "text": [
      "Height1:  2\n",
      "Height2:  4\n",
      "Breadth:  4\n"
     ]
    },
    {
     "name": "stdout",
     "output_type": "stream",
     "text": [
      "Perimeter Formula: Height1 + Height2 + Breadth\n",
      "Perimeter of Triangle: 10\n"
     ]
    }
   ],
   "source": [
    "AllFunctions.triangle()"
   ]
  }
 ],
 "metadata": {
  "kernelspec": {
   "display_name": "Python 3 (ipykernel)",
   "language": "python",
   "name": "python3"
  },
  "language_info": {
   "codemirror_mode": {
    "name": "ipython",
    "version": 3
   },
   "file_extension": ".py",
   "mimetype": "text/x-python",
   "name": "python",
   "nbconvert_exporter": "python",
   "pygments_lexer": "ipython3",
   "version": "3.12.4"
  }
 },
 "nbformat": 4,
 "nbformat_minor": 5
}
