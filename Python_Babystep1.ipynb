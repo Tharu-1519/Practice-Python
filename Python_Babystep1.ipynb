{
 "cells": [
  {
   "cell_type": "markdown",
   "id": "4b0f11dc-bef3-4872-a663-76520162cf63",
   "metadata": {},
   "source": [
    "Print Excerise"
   ]
  },
  {
   "cell_type": "code",
   "execution_count": 1,
   "id": "7fa1a61a-470c-4238-8afb-b580e7b6e0b9",
   "metadata": {},
   "outputs": [
    {
     "name": "stdout",
     "output_type": "stream",
     "text": [
      "Welcome to Assignment-1\n"
     ]
    }
   ],
   "source": [
    "print(\"Welcome to Assignment-1\")"
   ]
  },
  {
   "cell_type": "markdown",
   "id": "0f59dc82-aa6e-4351-8b1d-3c05902a3161",
   "metadata": {},
   "source": [
    "Addition"
   ]
  },
  {
   "cell_type": "code",
   "execution_count": 1,
   "id": "47e99aa9-5bb0-4efb-bc3a-6d88a0145649",
   "metadata": {},
   "outputs": [
    {
     "name": "stdout",
     "output_type": "stream",
     "text": [
      "num1= 10\n",
      "num2= 30\n",
      "Add= 40\n"
     ]
    }
   ],
   "source": [
    "num1 =10\n",
    "print(\"num1=\",num1)\n",
    "num2=30\n",
    "print(\"num2=\",num2)\n",
    "add=num1+num2\n",
    "print(\"Add=\",add)"
   ]
  },
  {
   "cell_type": "markdown",
   "id": "24debcac-3dd4-4c5e-9a66-99fcf2b3e487",
   "metadata": {},
   "source": [
    "BMI calculator"
   ]
  },
  {
   "cell_type": "code",
   "execution_count": 3,
   "id": "0d463e1f-b767-4611-91dc-dfe01c22da67",
   "metadata": {},
   "outputs": [
    {
     "name": "stdin",
     "output_type": "stream",
     "text": [
      "Enter the Body Mass Index: 34\n"
     ]
    },
    {
     "name": "stdout",
     "output_type": "stream",
     "text": [
      "Obese\n"
     ]
    }
   ],
   "source": [
    "BMI=int(input(\"Enter the Body Mass Index:\"))\n",
    "if(BMI<18.5):\n",
    "    print(\"Under Weight\")\n",
    "elif(BMI>=18.5 and BMI<=24.9):\n",
    "    print(\"Normal Weight\")\n",
    "elif(BMI>25.0 and BMI<29.9):\n",
    "    print(\"Over Weight\")\n",
    "else:\n",
    "    print(\"Obese\")"
   ]
  },
  {
   "cell_type": "code",
   "execution_count": null,
   "id": "8556aeaf-2d49-4716-b45d-3d488066cbfc",
   "metadata": {},
   "outputs": [],
   "source": []
  }
 ],
 "metadata": {
  "kernelspec": {
   "display_name": "Python 3 (ipykernel)",
   "language": "python",
   "name": "python3"
  },
  "language_info": {
   "codemirror_mode": {
    "name": "ipython",
    "version": 3
   },
   "file_extension": ".py",
   "mimetype": "text/x-python",
   "name": "python",
   "nbconvert_exporter": "python",
   "pygments_lexer": "ipython3",
   "version": "3.12.4"
  }
 },
 "nbformat": 4,
 "nbformat_minor": 5
}
