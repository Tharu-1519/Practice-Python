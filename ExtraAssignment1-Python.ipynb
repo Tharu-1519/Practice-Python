{
 "cells": [
  {
   "cell_type": "markdown",
   "id": "8a1f0700-04d9-4ef5-b185-eb6e56336258",
   "metadata": {},
   "source": [
    "Print statement"
   ]
  },
  {
   "cell_type": "code",
   "execution_count": 1,
   "id": "c08a85d6-df76-4bda-b838-5d83c6fdab17",
   "metadata": {},
   "outputs": [
    {
     "name": "stdout",
     "output_type": "stream",
     "text": [
      "HOPE AI\n"
     ]
    }
   ],
   "source": [
    "print(\"HOPE AI\")"
   ]
  },
  {
   "cell_type": "markdown",
   "id": "dee4c4bd-55a8-4c0b-b9ae-a5ad870408d2",
   "metadata": {},
   "source": [
    "buy input as string1"
   ]
  },
  {
   "cell_type": "code",
   "execution_count": 4,
   "id": "099a33f5-6074-416e-8b20-921b73f7396c",
   "metadata": {},
   "outputs": [
    {
     "name": "stdin",
     "output_type": "stream",
     "text": [
      "Enter your Institute name?: HOPE AI\n"
     ]
    }
   ],
   "source": [
    "Name_of_the_institute =input(\"Enter your Institute name?:\")"
   ]
  },
  {
   "cell_type": "markdown",
   "id": "793a74a0-da84-4e66-9b2e-f9dad2babb96",
   "metadata": {},
   "source": [
    "buy input as string2"
   ]
  },
  {
   "cell_type": "code",
   "execution_count": 7,
   "id": "bc9f00ed-469c-4fb3-b58b-d8e9cbdc9268",
   "metadata": {},
   "outputs": [
    {
     "name": "stdin",
     "output_type": "stream",
     "text": [
      "Enter your name: Tharani\n",
      "Enter your age 25\n",
      "Enter your school name Guru School\n",
      "Enter your degree B.E CSE\n"
     ]
    }
   ],
   "source": [
    "Student_Name=input(\"Enter your name:\")\n",
    "Age=int(input(\"Enter your age\"))\n",
    "School_Name=input(\"Enter your school name\")\n",
    "Degree =input(\"Enter your degree\")"
   ]
  },
  {
   "cell_type": "markdown",
   "id": "f68c265c-442d-43fc-8315-63efffb0f591",
   "metadata": {},
   "source": [
    "Addition"
   ]
  },
  {
   "cell_type": "code",
   "execution_count": 12,
   "id": "ec5de25d-7440-44d6-a8c7-dda3b1fb3301",
   "metadata": {},
   "outputs": [
    {
     "name": "stdin",
     "output_type": "stream",
     "text": [
      "a= 43\n",
      "b= 34\n"
     ]
    },
    {
     "name": "stdout",
     "output_type": "stream",
     "text": [
      "add= 77\n"
     ]
    }
   ],
   "source": [
    "a=int(input(\"a=\"))\n",
    "b=int(input(\"b=\"))\n",
    "add=a+b\n",
    "print(\"add=\",add)"
   ]
  },
  {
   "cell_type": "markdown",
   "id": "cb8b1204-ac14-4d5f-bb74-8e2f02f401ca",
   "metadata": {},
   "source": [
    "subtraction"
   ]
  },
  {
   "cell_type": "code",
   "execution_count": 14,
   "id": "94c86e1e-59af-4cd5-8803-09e737dfaa15",
   "metadata": {},
   "outputs": [
    {
     "name": "stdin",
     "output_type": "stream",
     "text": [
      "a= 43\n",
      "b= 34\n"
     ]
    },
    {
     "name": "stdout",
     "output_type": "stream",
     "text": [
      "sub= 9\n"
     ]
    }
   ],
   "source": [
    "a=int(input(\"a=\"))\n",
    "b=int(input(\"b=\"))\n",
    "sub=a-b\n",
    "print(\"sub=\",sub)"
   ]
  },
  {
   "cell_type": "markdown",
   "id": "09c24c84-e229-458b-b1b6-b1f02ec51ec0",
   "metadata": {},
   "source": [
    "Multiply"
   ]
  },
  {
   "cell_type": "code",
   "execution_count": 15,
   "id": "5e84bf6b-fcab-4dd3-acbc-923bc2490ad4",
   "metadata": {},
   "outputs": [
    {
     "name": "stdin",
     "output_type": "stream",
     "text": [
      "a= 53\n",
      "b= 97\n"
     ]
    },
    {
     "name": "stdout",
     "output_type": "stream",
     "text": [
      "Mul= 5141\n"
     ]
    }
   ],
   "source": [
    "a=int(input(\"a=\"))\n",
    "b=int(input(\"b=\"))\n",
    "Mul=a*b\n",
    "print(\"Mul=\",Mul)"
   ]
  },
  {
   "cell_type": "markdown",
   "id": "3b40e6e9-1ac1-4b13-babf-48e7ad1360f9",
   "metadata": {},
   "source": [
    "divion"
   ]
  },
  {
   "cell_type": "code",
   "execution_count": 16,
   "id": "56f283cc-d7c4-4d67-b7e6-e9cf72592618",
   "metadata": {},
   "outputs": [
    {
     "name": "stdin",
     "output_type": "stream",
     "text": [
      "a= 76\n",
      "b= 31\n"
     ]
    },
    {
     "name": "stdout",
     "output_type": "stream",
     "text": [
      "Div= 2.4516129032258065\n"
     ]
    }
   ],
   "source": [
    "a=int(input(\"a=\"))\n",
    "b=int(input(\"b=\"))\n",
    "Div=a/b\n",
    "print(\"Div=\",Div)"
   ]
  },
  {
   "cell_type": "markdown",
   "id": "442a87a6-33ae-49f7-adaa-54e6339d84a9",
   "metadata": {},
   "source": [
    "Floor division"
   ]
  },
  {
   "cell_type": "code",
   "execution_count": 18,
   "id": "92735f03-ec8a-4968-b468-7d652600a0cd",
   "metadata": {},
   "outputs": [
    {
     "name": "stdin",
     "output_type": "stream",
     "text": [
      "a= 75\n",
      "b= 31\n"
     ]
    },
    {
     "name": "stdout",
     "output_type": "stream",
     "text": [
      "Floor Div= 2\n"
     ]
    }
   ],
   "source": [
    "a=int(input(\"a=\"))\n",
    "b=int(input(\"b=\"))\n",
    "Floor_Div=a//b\n",
    "print(\"Floor Div=\",Floor_Div)"
   ]
  },
  {
   "cell_type": "markdown",
   "id": "0de8e126-7365-40d9-a22d-e0eb893f14b7",
   "metadata": {},
   "source": [
    "Module"
   ]
  },
  {
   "cell_type": "code",
   "execution_count": 20,
   "id": "35bc31c1-ede3-4ad4-844e-325d7c04bb6b",
   "metadata": {},
   "outputs": [
    {
     "name": "stdin",
     "output_type": "stream",
     "text": [
      "a= 76\n",
      "b= 31\n"
     ]
    },
    {
     "name": "stdout",
     "output_type": "stream",
     "text": [
      "Module 14\n"
     ]
    }
   ],
   "source": [
    "a=int(input(\"a=\"))\n",
    "b=int(input(\"b=\"))\n",
    "Module=a%b\n",
    "print(\"Module\",Module)"
   ]
  },
  {
   "cell_type": "markdown",
   "id": "93d3a253-5564-4215-a726-79b03848f2a2",
   "metadata": {},
   "source": [
    "Power"
   ]
  },
  {
   "cell_type": "code",
   "execution_count": 21,
   "id": "485e609f-a508-4dae-851d-ceecf91f9a22",
   "metadata": {},
   "outputs": [
    {
     "name": "stdin",
     "output_type": "stream",
     "text": [
      "a= 4\n",
      "b= 4\n"
     ]
    },
    {
     "name": "stdout",
     "output_type": "stream",
     "text": [
      "Power= 256\n"
     ]
    }
   ],
   "source": [
    "a=int(input(\"a=\"))\n",
    "b=int(input(\"b=\"))\n",
    "Power=a**b\n",
    "print(\"Power=\",Power)"
   ]
  },
  {
   "cell_type": "code",
   "execution_count": null,
   "id": "63efaa28-b77a-45b3-8113-daff56ce8895",
   "metadata": {},
   "outputs": [],
   "source": []
  }
 ],
 "metadata": {
  "kernelspec": {
   "display_name": "Python 3 (ipykernel)",
   "language": "python",
   "name": "python3"
  },
  "language_info": {
   "codemirror_mode": {
    "name": "ipython",
    "version": 3
   },
   "file_extension": ".py",
   "mimetype": "text/x-python",
   "name": "python",
   "nbconvert_exporter": "python",
   "pygments_lexer": "ipython3",
   "version": "3.12.4"
  }
 },
 "nbformat": 4,
 "nbformat_minor": 5
}
