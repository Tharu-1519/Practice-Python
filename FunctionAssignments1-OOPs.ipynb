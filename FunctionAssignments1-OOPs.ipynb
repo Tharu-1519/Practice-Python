{
 "cells": [
  {
   "cell_type": "markdown",
   "id": "242d749a-bd29-4fcd-882d-aa6c95eb547c",
   "metadata": {},
   "source": [
    "function -1"
   ]
  },
  {
   "cell_type": "code",
   "execution_count": 1,
   "id": "da451feb-f002-41d1-a105-b3700db35682",
   "metadata": {},
   "outputs": [],
   "source": [
    "def subfields():\n",
    "    subfields=[\n",
    "        'Machine Learning',\n",
    "        'Neural Netword',\n",
    "        'Vision',\n",
    "        'Robotics',\n",
    "        'Speech Processing',\n",
    "        'Natural Language Processing']\n",
    "    print(\"Sub-fields in AI are:\")\n",
    "    for fields in subfields:\n",
    "        print(fields)"
   ]
  },
  {
   "cell_type": "code",
   "execution_count": 2,
   "id": "e950078e-d8bd-486e-b66b-8d77f7d422f7",
   "metadata": {},
   "outputs": [
    {
     "name": "stdout",
     "output_type": "stream",
     "text": [
      "Sub-fields in AI are:\n",
      "Machine Learning\n",
      "Neural Netword\n",
      "Vision\n",
      "Robotics\n",
      "Speech Processing\n",
      "Natural Language Processing\n"
     ]
    }
   ],
   "source": [
    "subfields()"
   ]
  },
  {
   "cell_type": "markdown",
   "id": "0773c2d8-3db9-40e2-9c3f-2adc0f769b79",
   "metadata": {},
   "source": [
    "ODD EVEN using functions -2"
   ]
  },
  {
   "cell_type": "code",
   "execution_count": 3,
   "id": "a49989f7-9051-48f9-9cb0-6b899069855c",
   "metadata": {},
   "outputs": [],
   "source": [
    "def oddeven():\n",
    "    number=int(input(\"Enter a number:\"))\n",
    "    if(number%2 ==0):\n",
    "        print(f\"{number} is Even\")\n",
    "    else:\n",
    "        print(f\"{number} is Odd\")"
   ]
  },
  {
   "cell_type": "code",
   "execution_count": 7,
   "id": "b5f6726f-6c96-43c6-8ef9-ce7ae106e153",
   "metadata": {},
   "outputs": [
    {
     "name": "stdin",
     "output_type": "stream",
     "text": [
      "Enter a number: 52452\n"
     ]
    },
    {
     "name": "stdout",
     "output_type": "stream",
     "text": [
      "52452 is Even\n"
     ]
    }
   ],
   "source": [
    "oddeven()"
   ]
  },
  {
   "cell_type": "markdown",
   "id": "b58bf1c4-6c4f-4077-9e54-ba335699dbf9",
   "metadata": {},
   "source": [
    "Marriage Eligibility"
   ]
  },
  {
   "cell_type": "code",
   "execution_count": 5,
   "id": "920d5097-c750-450a-9371-b096c4ee2de4",
   "metadata": {},
   "outputs": [],
   "source": [
    "def Eligiblityformarriage():\n",
    "    Gender=input(\"Your Gender:\")\n",
    "    Age=int(input(\"your age:\"))\n",
    "    if((Gender==\"Male\" and Age>21) or (Gender==\"Female\" and Age >18)):\n",
    "        message=\"Eligible\"\n",
    "    else:\n",
    "        message=\"Not Eligible\"\n",
    "    return message"
   ]
  },
  {
   "cell_type": "code",
   "execution_count": 9,
   "id": "f5a21077-0180-46b6-a7dc-1033c3589b38",
   "metadata": {},
   "outputs": [
    {
     "name": "stdin",
     "output_type": "stream",
     "text": [
      "Your Gender: Male\n",
      "your age: 20\n"
     ]
    },
    {
     "name": "stdout",
     "output_type": "stream",
     "text": [
      "Not Eligible\n"
     ]
    }
   ],
   "source": [
    "print(Eligiblityformarriage())"
   ]
  },
  {
   "cell_type": "markdown",
   "id": "70fbc557-1525-4a61-a4e1-be5f40c194f4",
   "metadata": {},
   "source": [
    "Precentage of the marks"
   ]
  },
  {
   "cell_type": "code",
   "execution_count": 16,
   "id": "2fe2e79a-198d-4ce7-a204-b544adb3ae01",
   "metadata": {},
   "outputs": [],
   "source": [
    "def Calculate():\n",
    "    sub1=int(input(\"Subject1:\"))\n",
    "    sub2=int(input(\"Subject2:\"))\n",
    "    sub3=int(input(\"Subject3:\"))\n",
    "    sub4=int(input(\"Subject4:\"))\n",
    "    sub5=int(input(\"Subject5:\"))\n",
    "    Total=(sub1+sub2+sub3+sub4+sub5)\n",
    "    print(\"Total:\",Total)\n",
    "    Percentage=float(Total/5)\n",
    "    print(\"Percentage:\",Percentage)"
   ]
  },
  {
   "cell_type": "code",
   "execution_count": 17,
   "id": "153ea64d-a35a-4b16-b1c8-b0c39d99c4e7",
   "metadata": {},
   "outputs": [
    {
     "name": "stdin",
     "output_type": "stream",
     "text": [
      "Subject1: 98\n",
      "Subject2: 87\n",
      "Subject3: 95\n",
      "Subject4: 95\n",
      "Subject5: 93\n"
     ]
    },
    {
     "name": "stdout",
     "output_type": "stream",
     "text": [
      "Total: 468\n",
      "Percentage: 93.6\n"
     ]
    }
   ],
   "source": [
    "Calculate()"
   ]
  },
  {
   "cell_type": "markdown",
   "id": "56bef5c8-2518-4c45-8d84-14b98310c9dc",
   "metadata": {},
   "source": [
    "Triangle calclation"
   ]
  },
  {
   "cell_type": "code",
   "execution_count": 18,
   "id": "e55c2ca5-0357-41c9-869e-588536e4722f",
   "metadata": {},
   "outputs": [],
   "source": [
    "def triangle():\n",
    "    Height=int(input(\"Height:\"))\n",
    "    Breadth=int(input(\"Breadth:\"))\n",
    "    Area=(Height*Breadth)/2\n",
    "    print(\"Area Formula: Area=(Height*Breadth)/2\")\n",
    "    print(\"Area of Triangle:\", Area)\n",
    "    Height1=int(input(\"Height1:\"))\n",
    "    Height2=int(input(\"Height2:\"))\n",
    "    Breadth=int(input(\"Breadth:\"))\n",
    "    Perimeter=Height1+Height2+Breadth\n",
    "    print(\"Perimeter formula: Height1+Height2+Breadth\")\n",
    "    print(\"Perimeter of Triangle:\",Perimeter)"
   ]
  },
  {
   "cell_type": "code",
   "execution_count": 20,
   "id": "972acb75-7c8d-435a-9678-d7ee33383895",
   "metadata": {},
   "outputs": [
    {
     "name": "stdin",
     "output_type": "stream",
     "text": [
      "Height: 32\n",
      "Breadth: 34\n"
     ]
    },
    {
     "name": "stdout",
     "output_type": "stream",
     "text": [
      "Area Formula: Area=(Height*Breadth)/2\n",
      "Area of Triangle: 544.0\n"
     ]
    },
    {
     "name": "stdin",
     "output_type": "stream",
     "text": [
      "Height1: 2\n",
      "Height2: 4\n",
      "Breadth: 4\n"
     ]
    },
    {
     "name": "stdout",
     "output_type": "stream",
     "text": [
      "Perimeter formula: Height1+Height2+Breadth\n",
      "Perimeter of Triangle: 10\n"
     ]
    }
   ],
   "source": [
    "triangle()"
   ]
  }
 ],
 "metadata": {
  "kernelspec": {
   "display_name": "Python 3 (ipykernel)",
   "language": "python",
   "name": "python3"
  },
  "language_info": {
   "codemirror_mode": {
    "name": "ipython",
    "version": 3
   },
   "file_extension": ".py",
   "mimetype": "text/x-python",
   "name": "python",
   "nbconvert_exporter": "python",
   "pygments_lexer": "ipython3",
   "version": "3.12.4"
  }
 },
 "nbformat": 4,
 "nbformat_minor": 5
}
