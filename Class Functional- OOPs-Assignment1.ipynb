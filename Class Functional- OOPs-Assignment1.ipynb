{
 "cells": [
  {
   "cell_type": "markdown",
   "id": "486dc303-97d9-4762-8263-a28c295f491c",
   "metadata": {},
   "source": [
    "Class - Function -OOPs1"
   ]
  },
  {
   "cell_type": "code",
   "execution_count": 18,
   "id": "1d48c3a3-43ea-45bb-8636-d874bb2c5f22",
   "metadata": {},
   "outputs": [],
   "source": [
    "class subfieldsInAI:\n",
    "    def subfields():\n",
    "        subfields=[\n",
    "            'Machine Learning',\n",
    "            'Neural Netword',\n",
    "            'Vision',\n",
    "            'Robotics',\n",
    "            'Speech Processing',\n",
    "            'Natural Language Processing']\n",
    "        print(\"Sub-fields in AI are:\")\n",
    "        for fields in subfields:\n",
    "            print(fields)"
   ]
  },
  {
   "cell_type": "code",
   "execution_count": 19,
   "id": "56bd001a-f108-4dc9-a7b4-eb6cfde97f61",
   "metadata": {},
   "outputs": [
    {
     "name": "stdout",
     "output_type": "stream",
     "text": [
      "Sub-fields in AI are:\n",
      "Machine Learning\n",
      "Neural Netword\n",
      "Vision\n",
      "Robotics\n",
      "Speech Processing\n",
      "Natural Language Processing\n"
     ]
    }
   ],
   "source": [
    "subfieldsInAI.subfields()"
   ]
  },
  {
   "cell_type": "markdown",
   "id": "2e1a371b-223b-4d17-84ef-c47d361bc63c",
   "metadata": {},
   "source": [
    "Class Function -OOPs2"
   ]
  },
  {
   "cell_type": "code",
   "execution_count": 4,
   "id": "59421aad-4dab-4aef-8469-7c690f96c2bf",
   "metadata": {},
   "outputs": [],
   "source": [
    "class oddeven:\n",
    "    def oddeven():\n",
    "        number=int(input(\"Enter a number:\"))\n",
    "        if(number%2 ==0):\n",
    "            print(f\"{number} is Even\")\n",
    "        else:\n",
    "            print(f\"{number} is Odd\")"
   ]
  },
  {
   "cell_type": "code",
   "execution_count": 12,
   "id": "3ab46d56-b478-490d-9094-e5a41bc0d550",
   "metadata": {},
   "outputs": [
    {
     "name": "stdin",
     "output_type": "stream",
     "text": [
      "Enter a number: 52452\n"
     ]
    },
    {
     "name": "stdout",
     "output_type": "stream",
     "text": [
      "52452 is Even\n"
     ]
    }
   ],
   "source": [
    "oddeven.oddeven()"
   ]
  },
  {
   "cell_type": "markdown",
   "id": "8976286e-3820-4895-998b-307406b7662a",
   "metadata": {},
   "source": [
    "Class Function -OOPs3"
   ]
  },
  {
   "cell_type": "code",
   "execution_count": 5,
   "id": "a606ed0b-29cf-46f4-bd14-5559f772881e",
   "metadata": {},
   "outputs": [],
   "source": [
    "class Eligiblityformarriage:\n",
    "    def Eligiblityformarriage():\n",
    "        Gender=input(\"Your Gender:\")\n",
    "        Age=int(input(\"your age:\"))\n",
    "        if((Gender==\"Male\" and Age>21) or (Gender==\"Female\" and Age >18)):\n",
    "            message=\"Eligible\"\n",
    "        else:\n",
    "            message=\"Not Eligible\"\n",
    "        return message"
   ]
  },
  {
   "cell_type": "code",
   "execution_count": 11,
   "id": "606736cb-3444-4ccf-8adf-ffef59eb96e7",
   "metadata": {},
   "outputs": [
    {
     "name": "stdin",
     "output_type": "stream",
     "text": [
      "Your Gender: Male\n",
      "your age: 20\n"
     ]
    },
    {
     "data": {
      "text/plain": [
       "'Not Eligible'"
      ]
     },
     "execution_count": 11,
     "metadata": {},
     "output_type": "execute_result"
    }
   ],
   "source": [
    "Eligiblityformarriage.Eligiblityformarriage()"
   ]
  },
  {
   "cell_type": "markdown",
   "id": "592c5793-18f9-4035-8ec3-4e981f25f666",
   "metadata": {},
   "source": [
    "Class Function -OOPs3"
   ]
  },
  {
   "cell_type": "code",
   "execution_count": 6,
   "id": "abc4390a-2e9c-4766-b556-67f0a18760ee",
   "metadata": {},
   "outputs": [],
   "source": [
    "class Calculate:\n",
    "    def Calculate():\n",
    "        sub1=int(input(\"Subject1:\"))\n",
    "        sub2=int(input(\"Subject2:\"))\n",
    "        sub3=int(input(\"Subject3:\"))\n",
    "        sub4=int(input(\"Subject4:\"))\n",
    "        sub5=int(input(\"Subject5:\"))\n",
    "        Total=(sub1+sub2+sub3+sub4+sub5)\n",
    "        print(\"Total:\",Total)\n",
    "        Percentage=float(Total/5)\n",
    "        print(\"Percentage:\",Percentage)"
   ]
  },
  {
   "cell_type": "code",
   "execution_count": 14,
   "id": "86b95871-1f40-47b5-b0d5-019ffa996444",
   "metadata": {},
   "outputs": [
    {
     "name": "stdin",
     "output_type": "stream",
     "text": [
      "Subject1: 95\n",
      "Subject2: 87\n",
      "Subject3: 98\n",
      "Subject4: 95\n",
      "Subject5: 93\n"
     ]
    },
    {
     "name": "stdout",
     "output_type": "stream",
     "text": [
      "Total: 468\n",
      "Percentage: 93.6\n"
     ]
    }
   ],
   "source": [
    "Calculate.Calculate()"
   ]
  },
  {
   "cell_type": "markdown",
   "id": "733bb81e-06dc-4c9b-a142-baa2d7d0f35d",
   "metadata": {},
   "source": [
    "Class Function -OOPs3"
   ]
  },
  {
   "cell_type": "code",
   "execution_count": 16,
   "id": "b8fcac87-7fe8-4c18-8108-dfd12729a59b",
   "metadata": {},
   "outputs": [],
   "source": [
    "class triangle:\n",
    "    def triangle():\n",
    "        Height=int(input(\"Height:\"))\n",
    "        Breadth=int(input(\"Breadth:\"))\n",
    "        Area=(Height*Breadth)/2\n",
    "        print(\"Area Formula: Area=(Height*Breadth)/2\")\n",
    "        print(\"Area of Triangle:\", Area)\n",
    "        Height1=int(input(\"Height1:\"))\n",
    "        Height2=int(input(\"Height2:\"))\n",
    "        Breadth=int(input(\"Breadth:\"))\n",
    "        Perimeter=Height1+Height2+Breadth\n",
    "        print(\"Perimeter formula: Height1+Height2+Breadth\")\n",
    "        print(\"Perimeter of Triangle:\",Perimeter)"
   ]
  },
  {
   "cell_type": "code",
   "execution_count": 17,
   "id": "5cb64f23-e969-4c9f-b515-07f06c7c308b",
   "metadata": {},
   "outputs": [
    {
     "name": "stdin",
     "output_type": "stream",
     "text": [
      "Height: 32\n",
      "Breadth: 34\n"
     ]
    },
    {
     "name": "stdout",
     "output_type": "stream",
     "text": [
      "Area Formula: Area=(Height*Breadth)/2\n",
      "Area of Triangle: 544.0\n"
     ]
    },
    {
     "name": "stdin",
     "output_type": "stream",
     "text": [
      "Height1: 2\n",
      "Height2: 4\n",
      "Breadth: 4\n"
     ]
    },
    {
     "name": "stdout",
     "output_type": "stream",
     "text": [
      "Perimeter formula: Height1+Height2+Breadth\n",
      "Perimeter of Triangle: 10\n"
     ]
    }
   ],
   "source": [
    "triangle.triangle()"
   ]
  }
 ],
 "metadata": {
  "kernelspec": {
   "display_name": "Python 3 (ipykernel)",
   "language": "python",
   "name": "python3"
  },
  "language_info": {
   "codemirror_mode": {
    "name": "ipython",
    "version": 3
   },
   "file_extension": ".py",
   "mimetype": "text/x-python",
   "name": "python",
   "nbconvert_exporter": "python",
   "pygments_lexer": "ipython3",
   "version": "3.12.4"
  }
 },
 "nbformat": 4,
 "nbformat_minor": 5
}
