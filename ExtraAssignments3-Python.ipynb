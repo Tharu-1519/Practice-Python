{
 "cells": [
  {
   "cell_type": "markdown",
   "id": "37753fb9-a98c-4c18-904f-35e3fa43696d",
   "metadata": {},
   "source": [
    "print correct "
   ]
  },
  {
   "cell_type": "code",
   "execution_count": 1,
   "id": "b315dba1-5b09-40a3-a9ea-2d5b490015ed",
   "metadata": {},
   "outputs": [
    {
     "name": "stdin",
     "output_type": "stream",
     "text": [
      "enter the value: 10\n"
     ]
    },
    {
     "name": "stdout",
     "output_type": "stream",
     "text": [
      "Correct\n"
     ]
    }
   ],
   "source": [
    "num=int(input(\"enter the value:\"))\n",
    "if(num==10):\n",
    "    print(\"Correct\")"
   ]
  },
  {
   "cell_type": "markdown",
   "id": "9155688a-42dc-410d-a2e8-b1c5fcb285ec",
   "metadata": {},
   "source": [
    "Password check"
   ]
  },
  {
   "cell_type": "code",
   "execution_count": 5,
   "id": "9749623d-0a05-4155-8264-2725fed5fc61",
   "metadata": {},
   "outputs": [
    {
     "name": "stdin",
     "output_type": "stream",
     "text": [
      "Enter your password Hope@123\n"
     ]
    },
    {
     "name": "stdout",
     "output_type": "stream",
     "text": [
      "Your password is correct\n"
     ]
    }
   ],
   "source": [
    "password=input(\"Enter your password\")\n",
    "if(password=='Hope@123'):\n",
    "   print(\"Your password is correct\")\n",
    "else:\n",
    "    print(\"Your password is incorrect\")"
   ]
  },
  {
   "cell_type": "markdown",
   "id": "95d31688-4e5f-4c7c-b56d-0696c381859b",
   "metadata": {},
   "source": [
    "Category the People by their age "
   ]
  },
  {
   "cell_type": "code",
   "execution_count": 3,
   "id": "7817f2b5-7b1a-4966-97fc-9203d288e7db",
   "metadata": {},
   "outputs": [
    {
     "name": "stdin",
     "output_type": "stream",
     "text": [
      "Enter your age: 20\n"
     ]
    },
    {
     "name": "stdout",
     "output_type": "stream",
     "text": [
      "Adult\n"
     ]
    }
   ],
   "source": [
    "age=int(input(\"Enter your age:\"))\n",
    "if(age<=12):\n",
    "    print(\"Children\")\n",
    "elif(age<=40):\n",
    "    print(\"Adult\")\n",
    "elif(age<=59):\n",
    "    print(\"Citizen\")\n",
    "else:\n",
    "    print(\"Senior citizen\")"
   ]
  },
  {
   "cell_type": "markdown",
   "id": "bde53a90-1d2e-45fe-9383-39fe2df9af01",
   "metadata": {},
   "source": [
    "Positive or Negative "
   ]
  },
  {
   "cell_type": "code",
   "execution_count": 6,
   "id": "91e5742c-f360-48bd-9dcb-673c18da7db8",
   "metadata": {},
   "outputs": [
    {
     "name": "stdin",
     "output_type": "stream",
     "text": [
      "Enter any number: 1\n"
     ]
    },
    {
     "name": "stdout",
     "output_type": "stream",
     "text": [
      "No is positive\n"
     ]
    }
   ],
   "source": [
    "numb=int(input(\"Enter any number:\"))\n",
    "if(numb>0):\n",
    "    print(\"No is positive\")\n",
    "elif(numb<0):\n",
    "    print(\"No is negative\")\n",
    "else:\n",
    "    print(\"ZERO\")"
   ]
  },
  {
   "cell_type": "markdown",
   "id": "c1f03953-007c-4ad0-9a66-4c9e977b8196",
   "metadata": {},
   "source": [
    "Check the given number divisible by 5 "
   ]
  },
  {
   "cell_type": "code",
   "execution_count": 17,
   "id": "e5626c98-3199-4886-99ec-8ac5262b78f3",
   "metadata": {},
   "outputs": [
    {
     "name": "stdin",
     "output_type": "stream",
     "text": [
      "Enter a number to check: 22\n"
     ]
    },
    {
     "name": "stdout",
     "output_type": "stream",
     "text": [
      "No is not divisible by 5\n"
     ]
    }
   ],
   "source": [
    "number1=float(input(\"Enter a number to check:\"))\n",
    "if(number1%5==0):\n",
    "    print(\"No is divisible by 5\")\n",
    "else:\n",
    "    print(\"No is not divisible by 5\")"
   ]
  }
 ],
 "metadata": {
  "kernelspec": {
   "display_name": "Python 3 (ipykernel)",
   "language": "python",
   "name": "python3"
  },
  "language_info": {
   "codemirror_mode": {
    "name": "ipython",
    "version": 3
   },
   "file_extension": ".py",
   "mimetype": "text/x-python",
   "name": "python",
   "nbconvert_exporter": "python",
   "pygments_lexer": "ipython3",
   "version": "3.12.4"
  }
 },
 "nbformat": 4,
 "nbformat_minor": 5
}
